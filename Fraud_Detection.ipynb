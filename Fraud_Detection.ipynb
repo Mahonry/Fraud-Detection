{
  "nbformat": 4,
  "nbformat_minor": 0,
  "metadata": {
    "colab": {
      "name": "Fraud Detection.ipynb",
      "provenance": [],
      "collapsed_sections": [],
      "authorship_tag": "ABX9TyPknMyctQjl/F/W41XBoh7A",
      "include_colab_link": true
    },
    "kernelspec": {
      "name": "python3",
      "display_name": "Python 3"
    }
  },
  "cells": [
    {
      "cell_type": "markdown",
      "metadata": {
        "id": "view-in-github",
        "colab_type": "text"
      },
      "source": [
        "<a href=\"https://colab.research.google.com/github/Mahonry/Fraud-Detection/blob/master/Fraud_Detection.ipynb\" target=\"_parent\"><img src=\"https://colab.research.google.com/assets/colab-badge.svg\" alt=\"Open In Colab\"/></a>"
      ]
    },
    {
      "cell_type": "code",
      "metadata": {
        "id": "m4KBetAYoX2f",
        "colab_type": "code",
        "colab": {}
      },
      "source": [
        "import pandas as pd\n",
        "from sklearn.preprocessing import OneHotEncoder, LabelEncoder\n",
        "import numpy as np"
      ],
      "execution_count": 0,
      "outputs": []
    },
    {
      "cell_type": "code",
      "metadata": {
        "id": "7ArVTMNbo3J9",
        "colab_type": "code",
        "outputId": "573dbc83-67bd-45b1-a319-70ca3cedfa0a",
        "colab": {
          "base_uri": "https://localhost:8080/",
          "height": 309
        }
      },
      "source": [
        "df = pd.read_excel('Dataset.xlsx')\n",
        "df.head()\n",
        "#https://www.kaggle.com/incarnyx/car-insurance-fraud"
      ],
      "execution_count": 0,
      "outputs": [
        {
          "output_type": "execute_result",
          "data": {
            "text/html": [
              "<div>\n",
              "<style scoped>\n",
              "    .dataframe tbody tr th:only-of-type {\n",
              "        vertical-align: middle;\n",
              "    }\n",
              "\n",
              "    .dataframe tbody tr th {\n",
              "        vertical-align: top;\n",
              "    }\n",
              "\n",
              "    .dataframe thead th {\n",
              "        text-align: right;\n",
              "    }\n",
              "</style>\n",
              "<table border=\"1\" class=\"dataframe\">\n",
              "  <thead>\n",
              "    <tr style=\"text-align: right;\">\n",
              "      <th></th>\n",
              "      <th>Month</th>\n",
              "      <th>WeekOfMonth</th>\n",
              "      <th>DayOfWeek</th>\n",
              "      <th>Make</th>\n",
              "      <th>AccidentArea</th>\n",
              "      <th>DayOfWeekClaimed</th>\n",
              "      <th>MonthClaimed</th>\n",
              "      <th>WeekOfMonthClaimed</th>\n",
              "      <th>Sex</th>\n",
              "      <th>MaritalStatus</th>\n",
              "      <th>Age</th>\n",
              "      <th>Fault</th>\n",
              "      <th>PolicyType</th>\n",
              "      <th>VehicleCategory</th>\n",
              "      <th>VehiclePrice</th>\n",
              "      <th>FraudFound_P</th>\n",
              "      <th>PolicyNumber</th>\n",
              "      <th>RepNumber</th>\n",
              "      <th>Deductible</th>\n",
              "      <th>DriverRating</th>\n",
              "      <th>Days_Policy_Accident</th>\n",
              "      <th>Days_Policy_Claim</th>\n",
              "      <th>PastNumberOfClaims</th>\n",
              "      <th>AgeOfVehicle</th>\n",
              "      <th>AgeOfPolicyHolder</th>\n",
              "      <th>PoliceReportFiled</th>\n",
              "      <th>WitnessPresent</th>\n",
              "      <th>AgentType</th>\n",
              "      <th>NumberOfSuppliments</th>\n",
              "      <th>AddressChange_Claim</th>\n",
              "      <th>NumberOfCars</th>\n",
              "      <th>Year</th>\n",
              "      <th>BasePolicy</th>\n",
              "      <th>ClaimSize</th>\n",
              "    </tr>\n",
              "  </thead>\n",
              "  <tbody>\n",
              "    <tr>\n",
              "      <th>0</th>\n",
              "      <td>Dec</td>\n",
              "      <td>5</td>\n",
              "      <td>Wednesday</td>\n",
              "      <td>Honda</td>\n",
              "      <td>Urban</td>\n",
              "      <td>Tuesday</td>\n",
              "      <td>Jan</td>\n",
              "      <td>1</td>\n",
              "      <td>Female</td>\n",
              "      <td>Single</td>\n",
              "      <td>21.0</td>\n",
              "      <td>Policy Holder</td>\n",
              "      <td>Sport - Liability</td>\n",
              "      <td>Sport</td>\n",
              "      <td>more than 69000</td>\n",
              "      <td>0</td>\n",
              "      <td>1</td>\n",
              "      <td>12</td>\n",
              "      <td>300</td>\n",
              "      <td>1.0</td>\n",
              "      <td>more than 30</td>\n",
              "      <td>more than 30</td>\n",
              "      <td>none</td>\n",
              "      <td>3 years</td>\n",
              "      <td>26 to 30</td>\n",
              "      <td>No</td>\n",
              "      <td>No</td>\n",
              "      <td>External</td>\n",
              "      <td>none</td>\n",
              "      <td>1 year</td>\n",
              "      <td>3 to 4</td>\n",
              "      <td>1994</td>\n",
              "      <td>Liability</td>\n",
              "      <td>55526.069421</td>\n",
              "    </tr>\n",
              "    <tr>\n",
              "      <th>1</th>\n",
              "      <td>Jan</td>\n",
              "      <td>3</td>\n",
              "      <td>Wednesday</td>\n",
              "      <td>Honda</td>\n",
              "      <td>Urban</td>\n",
              "      <td>Monday</td>\n",
              "      <td>Jan</td>\n",
              "      <td>4</td>\n",
              "      <td>Male</td>\n",
              "      <td>Single</td>\n",
              "      <td>34.0</td>\n",
              "      <td>Policy Holder</td>\n",
              "      <td>Sport - Collision</td>\n",
              "      <td>Sport</td>\n",
              "      <td>more than 69000</td>\n",
              "      <td>0</td>\n",
              "      <td>2</td>\n",
              "      <td>15</td>\n",
              "      <td>400</td>\n",
              "      <td>4.0</td>\n",
              "      <td>more than 30</td>\n",
              "      <td>more than 30</td>\n",
              "      <td>none</td>\n",
              "      <td>6 years</td>\n",
              "      <td>31 to 35</td>\n",
              "      <td>Yes</td>\n",
              "      <td>No</td>\n",
              "      <td>External</td>\n",
              "      <td>none</td>\n",
              "      <td>no change</td>\n",
              "      <td>1 vehicle</td>\n",
              "      <td>1994</td>\n",
              "      <td>Collision</td>\n",
              "      <td>59294.455571</td>\n",
              "    </tr>\n",
              "    <tr>\n",
              "      <th>2</th>\n",
              "      <td>Oct</td>\n",
              "      <td>5</td>\n",
              "      <td>Friday</td>\n",
              "      <td>Honda</td>\n",
              "      <td>Urban</td>\n",
              "      <td>Thursday</td>\n",
              "      <td>Nov</td>\n",
              "      <td>2</td>\n",
              "      <td>Male</td>\n",
              "      <td>Married</td>\n",
              "      <td>47.0</td>\n",
              "      <td>Policy Holder</td>\n",
              "      <td>Sport - Collision</td>\n",
              "      <td>Sport</td>\n",
              "      <td>more than 69000</td>\n",
              "      <td>0</td>\n",
              "      <td>3</td>\n",
              "      <td>7</td>\n",
              "      <td>400</td>\n",
              "      <td>3.0</td>\n",
              "      <td>more than 30</td>\n",
              "      <td>more than 30</td>\n",
              "      <td>1</td>\n",
              "      <td>7 years</td>\n",
              "      <td>41 to 50</td>\n",
              "      <td>No</td>\n",
              "      <td>No</td>\n",
              "      <td>External</td>\n",
              "      <td>none</td>\n",
              "      <td>no change</td>\n",
              "      <td>1 vehicle</td>\n",
              "      <td>1994</td>\n",
              "      <td>Collision</td>\n",
              "      <td>71756.941320</td>\n",
              "    </tr>\n",
              "    <tr>\n",
              "      <th>3</th>\n",
              "      <td>Jun</td>\n",
              "      <td>2</td>\n",
              "      <td>Saturday</td>\n",
              "      <td>Toyota</td>\n",
              "      <td>Rural</td>\n",
              "      <td>Friday</td>\n",
              "      <td>Jul</td>\n",
              "      <td>1</td>\n",
              "      <td>Male</td>\n",
              "      <td>Married</td>\n",
              "      <td>65.0</td>\n",
              "      <td>Third Party</td>\n",
              "      <td>Sedan - Liability</td>\n",
              "      <td>Sport</td>\n",
              "      <td>20000 to 29000</td>\n",
              "      <td>0</td>\n",
              "      <td>4</td>\n",
              "      <td>4</td>\n",
              "      <td>400</td>\n",
              "      <td>2.0</td>\n",
              "      <td>more than 30</td>\n",
              "      <td>more than 30</td>\n",
              "      <td>1</td>\n",
              "      <td>more than 7</td>\n",
              "      <td>51 to 65</td>\n",
              "      <td>Yes</td>\n",
              "      <td>No</td>\n",
              "      <td>External</td>\n",
              "      <td>more than 5</td>\n",
              "      <td>no change</td>\n",
              "      <td>1 vehicle</td>\n",
              "      <td>1994</td>\n",
              "      <td>Liability</td>\n",
              "      <td>7584.153493</td>\n",
              "    </tr>\n",
              "    <tr>\n",
              "      <th>4</th>\n",
              "      <td>Feb</td>\n",
              "      <td>1</td>\n",
              "      <td>Saturday</td>\n",
              "      <td>Honda</td>\n",
              "      <td>Urban</td>\n",
              "      <td>Monday</td>\n",
              "      <td>Feb</td>\n",
              "      <td>3</td>\n",
              "      <td>Male</td>\n",
              "      <td>Married</td>\n",
              "      <td>36.0</td>\n",
              "      <td>Third Party</td>\n",
              "      <td>Sport - Collision</td>\n",
              "      <td>Sport</td>\n",
              "      <td>more than 69000</td>\n",
              "      <td>0</td>\n",
              "      <td>7</td>\n",
              "      <td>14</td>\n",
              "      <td>400</td>\n",
              "      <td>1.0</td>\n",
              "      <td>more than 30</td>\n",
              "      <td>more than 30</td>\n",
              "      <td>1</td>\n",
              "      <td>7 years</td>\n",
              "      <td>36 to 40</td>\n",
              "      <td>No</td>\n",
              "      <td>No</td>\n",
              "      <td>External</td>\n",
              "      <td>1 to 2</td>\n",
              "      <td>no change</td>\n",
              "      <td>1 vehicle</td>\n",
              "      <td>1994</td>\n",
              "      <td>Collision</td>\n",
              "      <td>98545.374339</td>\n",
              "    </tr>\n",
              "  </tbody>\n",
              "</table>\n",
              "</div>"
            ],
            "text/plain": [
              "  Month  WeekOfMonth  DayOfWeek  ...  Year BasePolicy     ClaimSize\n",
              "0   Dec            5  Wednesday  ...  1994  Liability  55526.069421\n",
              "1   Jan            3  Wednesday  ...  1994  Collision  59294.455571\n",
              "2   Oct            5     Friday  ...  1994  Collision  71756.941320\n",
              "3   Jun            2   Saturday  ...  1994  Liability   7584.153493\n",
              "4   Feb            1   Saturday  ...  1994  Collision  98545.374339\n",
              "\n",
              "[5 rows x 34 columns]"
            ]
          },
          "metadata": {
            "tags": []
          },
          "execution_count": 24
        }
      ]
    },
    {
      "cell_type": "code",
      "metadata": {
        "id": "nj8ouHvZFDfR",
        "colab_type": "code",
        "outputId": "389d7f27-a763-4914-814e-ae42edf39fca",
        "colab": {
          "base_uri": "https://localhost:8080/",
          "height": 51
        }
      },
      "source": [
        "print(len(df))\n",
        "print(len(df['FraudFound_P']))"
      ],
      "execution_count": 0,
      "outputs": [
        {
          "output_type": "stream",
          "text": [
            "11565\n",
            "11565\n"
          ],
          "name": "stdout"
        }
      ]
    },
    {
      "cell_type": "markdown",
      "metadata": {
        "id": "K_OAVtpXsUeW",
        "colab_type": "text"
      },
      "source": [
        "# Inspección de Variables y preprocesado de datos\n"
      ]
    },
    {
      "cell_type": "code",
      "metadata": {
        "id": "Hn21bMBqo-Ph",
        "colab_type": "code",
        "outputId": "676519d8-dd2b-4448-c7e3-c0b7bdc86f56",
        "colab": {
          "base_uri": "https://localhost:8080/",
          "height": 714
        }
      },
      "source": [
        "df.info()"
      ],
      "execution_count": 0,
      "outputs": [
        {
          "output_type": "stream",
          "text": [
            "<class 'pandas.core.frame.DataFrame'>\n",
            "RangeIndex: 11565 entries, 0 to 11564\n",
            "Data columns (total 34 columns):\n",
            " #   Column                Non-Null Count  Dtype  \n",
            "---  ------                --------------  -----  \n",
            " 0   Month                 11565 non-null  object \n",
            " 1   WeekOfMonth           11565 non-null  int64  \n",
            " 2   DayOfWeek             11565 non-null  object \n",
            " 3   Make                  11565 non-null  object \n",
            " 4   AccidentArea          11565 non-null  object \n",
            " 5   DayOfWeekClaimed      11565 non-null  object \n",
            " 6   MonthClaimed          11565 non-null  object \n",
            " 7   WeekOfMonthClaimed    11565 non-null  int64  \n",
            " 8   Sex                   11565 non-null  object \n",
            " 9   MaritalStatus         11565 non-null  object \n",
            " 10  Age                   11560 non-null  float64\n",
            " 11  Fault                 11565 non-null  object \n",
            " 12  PolicyType            11565 non-null  object \n",
            " 13  VehicleCategory       11565 non-null  object \n",
            " 14  VehiclePrice          11565 non-null  object \n",
            " 15  FraudFound_P          11565 non-null  int64  \n",
            " 16  PolicyNumber          11565 non-null  int64  \n",
            " 17  RepNumber             11565 non-null  int64  \n",
            " 18  Deductible            11565 non-null  int64  \n",
            " 19  DriverRating          11559 non-null  float64\n",
            " 20  Days_Policy_Accident  11565 non-null  object \n",
            " 21  Days_Policy_Claim     11565 non-null  object \n",
            " 22  PastNumberOfClaims    11565 non-null  object \n",
            " 23  AgeOfVehicle          11565 non-null  object \n",
            " 24  AgeOfPolicyHolder     11565 non-null  object \n",
            " 25  PoliceReportFiled     11565 non-null  object \n",
            " 26  WitnessPresent        11565 non-null  object \n",
            " 27  AgentType             11565 non-null  object \n",
            " 28  NumberOfSuppliments   11565 non-null  object \n",
            " 29  AddressChange_Claim   11565 non-null  object \n",
            " 30  NumberOfCars          11565 non-null  object \n",
            " 31  Year                  11565 non-null  int64  \n",
            " 32  BasePolicy            11565 non-null  object \n",
            " 33  ClaimSize             11565 non-null  float64\n",
            "dtypes: float64(3), int64(7), object(24)\n",
            "memory usage: 3.0+ MB\n"
          ],
          "name": "stdout"
        }
      ]
    },
    {
      "cell_type": "code",
      "metadata": {
        "id": "9U7Z9Ralsm8a",
        "colab_type": "code",
        "outputId": "c48e1bd3-febe-4baf-ef07-68def926e7b4",
        "colab": {
          "base_uri": "https://localhost:8080/",
          "height": 612
        }
      },
      "source": [
        "#Observando en donde faltan valores\n",
        "df.isna().sum()  != 0"
      ],
      "execution_count": 0,
      "outputs": [
        {
          "output_type": "execute_result",
          "data": {
            "text/plain": [
              "Month                   False\n",
              "WeekOfMonth             False\n",
              "DayOfWeek               False\n",
              "Make                    False\n",
              "AccidentArea            False\n",
              "DayOfWeekClaimed        False\n",
              "MonthClaimed            False\n",
              "WeekOfMonthClaimed      False\n",
              "Sex                     False\n",
              "MaritalStatus           False\n",
              "Age                      True\n",
              "Fault                   False\n",
              "PolicyType              False\n",
              "VehicleCategory         False\n",
              "VehiclePrice            False\n",
              "FraudFound_P            False\n",
              "PolicyNumber            False\n",
              "RepNumber               False\n",
              "Deductible              False\n",
              "DriverRating             True\n",
              "Days_Policy_Accident    False\n",
              "Days_Policy_Claim       False\n",
              "PastNumberOfClaims      False\n",
              "AgeOfVehicle            False\n",
              "AgeOfPolicyHolder       False\n",
              "PoliceReportFiled       False\n",
              "WitnessPresent          False\n",
              "AgentType               False\n",
              "NumberOfSuppliments     False\n",
              "AddressChange_Claim     False\n",
              "NumberOfCars            False\n",
              "Year                    False\n",
              "BasePolicy              False\n",
              "ClaimSize               False\n",
              "dtype: bool"
            ]
          },
          "metadata": {
            "tags": []
          },
          "execution_count": 27
        }
      ]
    },
    {
      "cell_type": "code",
      "metadata": {
        "id": "CThME-K-soHH",
        "colab_type": "code",
        "colab": {}
      },
      "source": [
        "# Rellenando los valores faltantes\n",
        "df['Age'] = df['Age'].fillna(df['Age'].mean()) \n",
        "df['DriverRating'] = df['DriverRating'].fillna(df['DriverRating'].mean())"
      ],
      "execution_count": 0,
      "outputs": []
    },
    {
      "cell_type": "markdown",
      "metadata": {
        "id": "e6LVSkni2sWy",
        "colab_type": "text"
      },
      "source": [
        "La variable objetivo que clasifica la actividad como fraudulenta  es denominada \"FraudFound_P\", evaluaremos la distribución de esta variable:"
      ]
    },
    {
      "cell_type": "code",
      "metadata": {
        "id": "tuRzzV-a1hKY",
        "colab_type": "code",
        "outputId": "8b7f1bda-615b-489f-9827-b82c3be48805",
        "colab": {
          "base_uri": "https://localhost:8080/",
          "height": 102
        }
      },
      "source": [
        "print(\"Distribución de FraudFound: \\n\", 100*df[\"FraudFound_P\"].value_counts()/df.shape[0])\n",
        "print(len(df[\"FraudFound_P\"]))"
      ],
      "execution_count": 0,
      "outputs": [
        {
          "output_type": "stream",
          "text": [
            "Distribución de FraudFound: \n",
            " 0    94.076956\n",
            "1     5.923044\n",
            "Name: FraudFound_P, dtype: float64\n",
            "11565\n"
          ],
          "name": "stdout"
        }
      ]
    },
    {
      "cell_type": "markdown",
      "metadata": {
        "id": "9ie4MLbp3IC4",
        "colab_type": "text"
      },
      "source": [
        "Evaluemos las variables que tienen tipo object y la cantidad de valores distintos que poseen\n",
        "---\n",
        "\n"
      ]
    },
    {
      "cell_type": "code",
      "metadata": {
        "id": "5yv00tMDyEwY",
        "colab_type": "code",
        "outputId": "b1cc8309-7ed0-4d77-b663-c51794778934",
        "colab": {
          "base_uri": "https://localhost:8080/",
          "height": 85
        }
      },
      "source": [
        "df.dtypes.value_counts()"
      ],
      "execution_count": 0,
      "outputs": [
        {
          "output_type": "execute_result",
          "data": {
            "text/plain": [
              "object     24\n",
              "int64       7\n",
              "float64     3\n",
              "dtype: int64"
            ]
          },
          "metadata": {
            "tags": []
          },
          "execution_count": 30
        }
      ]
    },
    {
      "cell_type": "code",
      "metadata": {
        "id": "VBPngEaYBEPp",
        "colab_type": "code",
        "colab": {}
      },
      "source": [
        "# En la variable 'PastNumberOfClaims' tenemos mezclados tipos de datos por lo que convertire todos a texto para poder realizar el OneHotEncoding\n",
        "df['PastNumberOfClaims'] = df['PastNumberOfClaims'].astype('category')\n",
        "df.drop(1146, inplace=True)"
      ],
      "execution_count": 0,
      "outputs": []
    },
    {
      "cell_type": "code",
      "metadata": {
        "id": "zQ4Zz6AKuw6n",
        "colab_type": "code",
        "outputId": "1f83ab27-041b-4023-9db0-b15a5be8d8cf",
        "colab": {
          "base_uri": "https://localhost:8080/",
          "height": 408
        }
      },
      "source": [
        "types = pd.DataFrame(df.dtypes)\n",
        "categoricas = types.index[types[0] == 'O'].values\n",
        "for line in categoricas:\n",
        " print(\"La variable \"+ line +\" contiene:\",str(len(df[line].unique()))+\" distinct values\")"
      ],
      "execution_count": 0,
      "outputs": [
        {
          "output_type": "stream",
          "text": [
            "La variable Month contiene: 12 distinct values\n",
            "La variable DayOfWeek contiene: 7 distinct values\n",
            "La variable Make contiene: 19 distinct values\n",
            "La variable AccidentArea contiene: 2 distinct values\n",
            "La variable DayOfWeekClaimed contiene: 7 distinct values\n",
            "La variable MonthClaimed contiene: 12 distinct values\n",
            "La variable Sex contiene: 2 distinct values\n",
            "La variable MaritalStatus contiene: 4 distinct values\n",
            "La variable Fault contiene: 2 distinct values\n",
            "La variable PolicyType contiene: 9 distinct values\n",
            "La variable VehicleCategory contiene: 3 distinct values\n",
            "La variable VehiclePrice contiene: 6 distinct values\n",
            "La variable Days_Policy_Accident contiene: 5 distinct values\n",
            "La variable Days_Policy_Claim contiene: 3 distinct values\n",
            "La variable AgeOfVehicle contiene: 8 distinct values\n",
            "La variable AgeOfPolicyHolder contiene: 9 distinct values\n",
            "La variable PoliceReportFiled contiene: 2 distinct values\n",
            "La variable WitnessPresent contiene: 2 distinct values\n",
            "La variable AgentType contiene: 2 distinct values\n",
            "La variable NumberOfSuppliments contiene: 4 distinct values\n",
            "La variable AddressChange_Claim contiene: 5 distinct values\n",
            "La variable NumberOfCars contiene: 5 distinct values\n",
            "La variable BasePolicy contiene: 3 distinct values\n"
          ],
          "name": "stdout"
        }
      ]
    },
    {
      "cell_type": "code",
      "metadata": {
        "id": "mjUxqSAi9srN",
        "colab_type": "code",
        "colab": {}
      },
      "source": [
        "#Para la variables pueden tomar valores binarios, hacemos una sustitucion simple\n",
        "df['AccidentArea'] = df['AccidentArea'].replace({'Urban': 0, 'Rural': 1})\n",
        "df['Sex'] = df['Sex'].replace({'Female': 0, 'Male': 1})\n",
        "df['Fault'] = df['Fault'].replace({'Policy Holder': 0, 'Third Party': 1})\n",
        "df['PoliceReportFiled'] = df['PoliceReportFiled'].replace({'No': 0, 'Yes': 1})\n",
        "df['WitnessPresent'] = df['WitnessPresent'].replace({'No': 0, 'Yes': 1})\n",
        "df['AgentType'] = df['AgentType'].replace({'External': 0, 'Internal': 1})"
      ],
      "execution_count": 0,
      "outputs": []
    },
    {
      "cell_type": "code",
      "metadata": {
        "id": "YXVnZTYFWWcQ",
        "colab_type": "code",
        "outputId": "f31252bb-25a1-459d-de90-a7f5b32193ed",
        "colab": {
          "base_uri": "https://localhost:8080/",
          "height": 51
        }
      },
      "source": [
        "print(len(df))\n",
        "print(len(df['FraudFound_P']))"
      ],
      "execution_count": 0,
      "outputs": [
        {
          "output_type": "stream",
          "text": [
            "11564\n",
            "11564\n"
          ],
          "name": "stdout"
        }
      ]
    },
    {
      "cell_type": "code",
      "metadata": {
        "id": "JV-B0lXJ68-3",
        "colab_type": "code",
        "colab": {}
      },
      "source": [
        "#Se define función que captura el dataframe y la columna para retornar un dataframe luego de One Hot Encoding\n",
        "def crea_OneHotEncoding(df, columna):\n",
        "  le = LabelEncoder()\n",
        "  le_ajustado=le.fit_transform(df[columna]).reshape(-1,1)\n",
        "  encoder = OneHotEncoder(sparse=False)\n",
        "  column = [columna+ \"_\"+ str(i) for i in le.classes_]\n",
        "  data = encoder.fit_transform(le_ajustado)\n",
        "  return(pd.DataFrame(data,columns =column))"
      ],
      "execution_count": 0,
      "outputs": []
    },
    {
      "cell_type": "code",
      "metadata": {
        "id": "VRqh3hg184IK",
        "colab_type": "code",
        "colab": {}
      },
      "source": [
        "numeric_columns_1 = list(set(types.index[types[0] ==\"int64\"].values))\n",
        "numeric_columns_2 = list(set(types.index[types[0] ==\"float64\"].values))\n",
        "numeric_columns = numeric_columns_1 + numeric_columns_2\n",
        "df_consolidado = df[numeric_columns]"
      ],
      "execution_count": 0,
      "outputs": []
    },
    {
      "cell_type": "code",
      "metadata": {
        "id": "0EFvSFwBXPZu",
        "colab_type": "code",
        "outputId": "d02dc836-5408-4b34-cbbe-250bd7fd2389",
        "colab": {
          "base_uri": "https://localhost:8080/",
          "height": 425
        }
      },
      "source": [
        "categoricas = types.index[types[0] == 'O'].values\n",
        "for column in categoricas:\n",
        "  df_t = crea_OneHotEncoding(df,column)\n",
        "  df_consolidado = pd.concat([df_consolidado,df_t],axis=1)\n",
        "  print(\"Columna \",column, \" transformada!\")\n",
        "\n",
        "print(\"Tamaño final del dataset transformado:\",df_consolidado.shape)"
      ],
      "execution_count": 0,
      "outputs": [
        {
          "output_type": "stream",
          "text": [
            "Columna  Month  transformada!\n",
            "Columna  DayOfWeek  transformada!\n",
            "Columna  Make  transformada!\n",
            "Columna  AccidentArea  transformada!\n",
            "Columna  DayOfWeekClaimed  transformada!\n",
            "Columna  MonthClaimed  transformada!\n",
            "Columna  Sex  transformada!\n",
            "Columna  MaritalStatus  transformada!\n",
            "Columna  Fault  transformada!\n",
            "Columna  PolicyType  transformada!\n",
            "Columna  VehicleCategory  transformada!\n",
            "Columna  VehiclePrice  transformada!\n",
            "Columna  Days_Policy_Accident  transformada!\n",
            "Columna  Days_Policy_Claim  transformada!\n",
            "Columna  AgeOfVehicle  transformada!\n",
            "Columna  AgeOfPolicyHolder  transformada!\n",
            "Columna  PoliceReportFiled  transformada!\n",
            "Columna  WitnessPresent  transformada!\n",
            "Columna  AgentType  transformada!\n",
            "Columna  NumberOfSuppliments  transformada!\n",
            "Columna  AddressChange_Claim  transformada!\n",
            "Columna  NumberOfCars  transformada!\n",
            "Columna  BasePolicy  transformada!\n",
            "Tamaño final del dataset transformado: (11565, 143)\n"
          ],
          "name": "stdout"
        }
      ]
    },
    {
      "cell_type": "code",
      "metadata": {
        "id": "gY76DuxZcDVF",
        "colab_type": "code",
        "colab": {}
      },
      "source": [
        "# Hay un problema con el registro 1146 en la variable DayOfWeekClaimed, como es el unico registro que tiene este problema he decidido eliminarlo, y hay algunos valores nulos\n",
        "# quitar estos valores nulos no representa perdida de información ya que solo estan dentro de un registro\n",
        "df_consolidado.drop(1146, inplace=True)\n",
        "df_consolidado.dropna(inplace=True)"
      ],
      "execution_count": 0,
      "outputs": []
    },
    {
      "cell_type": "code",
      "metadata": {
        "id": "eGDl6XTTZ8od",
        "colab_type": "code",
        "colab": {}
      },
      "source": [
        "objetivo = df_consolidado[\"FraudFound_P\"]\n",
        "df_consolidado.drop(\"FraudFound_P\",axis = 1, inplace = True)"
      ],
      "execution_count": 0,
      "outputs": []
    },
    {
      "cell_type": "code",
      "metadata": {
        "id": "bmQC_dGulQd1",
        "colab_type": "code",
        "outputId": "c71336df-d20d-46df-dfca-140da01c1f9f",
        "colab": {
          "base_uri": "https://localhost:8080/",
          "height": 51
        }
      },
      "source": [
        "print(len(objetivo))\n",
        "print(len(df_consolidado))"
      ],
      "execution_count": 0,
      "outputs": [
        {
          "output_type": "stream",
          "text": [
            "11563\n",
            "11563\n"
          ],
          "name": "stdout"
        }
      ]
    },
    {
      "cell_type": "markdown",
      "metadata": {
        "id": "YSQblt_herZc",
        "colab_type": "text"
      },
      "source": [
        "# Vamos a proponer dos modelos, un BaggingClassifier que tenga de base un algoritmo de KNeighbors y  un Random Forest\n",
        "\n"
      ]
    },
    {
      "cell_type": "code",
      "metadata": {
        "id": "5N5l9y3jkT5M",
        "colab_type": "code",
        "colab": {}
      },
      "source": [
        "from sklearn.neighbors import KNeighborsClassifier\n",
        "from sklearn.ensemble import BaggingClassifier\n",
        "from sklearn.ensemble import RandomForestClassifier\n",
        "from sklearn.model_selection import cross_validate\n",
        "\n",
        "bag_class = BaggingClassifier(base_estimator = KNeighborsClassifier(),\n",
        "                                  n_estimators = 50)\n",
        "forest = RandomForestClassifier(50)\n",
        "\n",
        "models = [bag_class,forest]"
      ],
      "execution_count": 0,
      "outputs": []
    },
    {
      "cell_type": "markdown",
      "metadata": {
        "id": "PScY_L7C5jUB",
        "colab_type": "text"
      },
      "source": [
        "# Evaluamos nuestros modelos"
      ]
    },
    {
      "cell_type": "code",
      "metadata": {
        "id": "8AS33zxLkT0H",
        "colab_type": "code",
        "outputId": "47acb78d-bdb4-4501-d931-71100b925733",
        "colab": {
          "base_uri": "https://localhost:8080/",
          "height": 173
        }
      },
      "source": [
        "for i in models:\n",
        "  results = cross_validate(i,\n",
        "                         df_consolidado,\n",
        "                         objetivo,\n",
        "                         cv = 10,\n",
        "                         return_train_score=True,)\n",
        "  print('Model: {}'.format(str(i).split('(')[0]))\n",
        "  test_scores = results['test_score']\n",
        "  train_scores = results['train_score']\n",
        "  print('Test score: ',np.mean(test_scores))\n",
        "  print('Train score: ',np.mean(train_scores)) \n",
        "  print('___'*64)"
      ],
      "execution_count": 0,
      "outputs": [
        {
          "output_type": "stream",
          "text": [
            "Model: BaggingClassifier\n",
            "Test score:  0.8777896989290405\n",
            "Train score:  0.9425946635771865\n",
            "________________________________________________________________________________________________________________________________________________________________________________________________\n",
            "Model: RandomForestClassifier\n",
            "Test score:  0.8995321841177368\n",
            "Train score:  0.998971808936906\n",
            "________________________________________________________________________________________________________________________________________________________________________________________________\n"
          ],
          "name": "stdout"
        }
      ]
    },
    {
      "cell_type": "markdown",
      "metadata": {
        "id": "iRlz5QHN5obu",
        "colab_type": "text"
      },
      "source": [
        "Como conclusión final creo que nuestro mejor estimador es el BaggingClassifier ya que tuve un buen desempeño tanto en el entrenamiento como en la validacion, considero que el Random Forest podría estar cayendo en Overfitting, quiero remarcar que estos datos fueron tomados de una fuente pública, no conozco mayor descripción, veracidad y calidad de ellos, tan solo me limite a entender como estaban compuestos y a prepararlos para implementarlos dentro de estos dos modelos, aún podriamos mejorar nuestras estimaciones, recalculando hiperparámetros o incluso ampliando nuestro set de datos."
      ]
    },
    {
      "cell_type": "code",
      "metadata": {
        "id": "IDjgPNAH6X5z",
        "colab_type": "code",
        "colab": {}
      },
      "source": [
        ""
      ],
      "execution_count": 0,
      "outputs": []
    }
  ]
}